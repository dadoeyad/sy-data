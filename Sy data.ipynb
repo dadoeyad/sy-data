{
 "cells": [
  {
   "cell_type": "markdown",
   "metadata": {
    "collapsed": false,
    "deletable": true,
    "editable": true
   },
   "source": [
    "# Getting the data"
   ]
  },
  {
   "cell_type": "code",
   "execution_count": 1,
   "metadata": {
    "collapsed": true,
    "deletable": true,
    "editable": true
   },
   "outputs": [],
   "source": [
    "import requests\n",
    "import pandas as pd\n",
    "\n",
    "%matplotlib inline\n",
    "import matplotlib.pyplot as plt"
   ]
  },
  {
   "cell_type": "code",
   "execution_count": 2,
   "metadata": {
    "collapsed": false,
    "deletable": true,
    "editable": true
   },
   "outputs": [
    {
     "data": {
      "text/html": [
       "<div>\n",
       "<table border=\"1\" class=\"dataframe\">\n",
       "  <thead>\n",
       "    <tr style=\"text-align: right;\">\n",
       "      <th></th>\n",
       "      <th>pro-gov</th>\n",
       "      <th>anti-gov</th>\n",
       "      <th>civilians</th>\n",
       "      <th>total</th>\n",
       "    </tr>\n",
       "    <tr>\n",
       "      <th>year</th>\n",
       "      <th></th>\n",
       "      <th></th>\n",
       "      <th></th>\n",
       "      <th></th>\n",
       "    </tr>\n",
       "  </thead>\n",
       "  <tbody>\n",
       "    <tr>\n",
       "      <th>2011/2012</th>\n",
       "      <td>22051</td>\n",
       "      <td>10271</td>\n",
       "      <td>23830</td>\n",
       "      <td>56152</td>\n",
       "    </tr>\n",
       "    <tr>\n",
       "      <th>2013</th>\n",
       "      <td>30239</td>\n",
       "      <td>18812</td>\n",
       "      <td>22436</td>\n",
       "      <td>71487</td>\n",
       "    </tr>\n",
       "    <tr>\n",
       "      <th>2014</th>\n",
       "      <td>25160</td>\n",
       "      <td>32726</td>\n",
       "      <td>17790</td>\n",
       "      <td>75676</td>\n",
       "    </tr>\n",
       "    <tr>\n",
       "      <th>2015</th>\n",
       "      <td>17686</td>\n",
       "      <td>24010</td>\n",
       "      <td>13249</td>\n",
       "      <td>54945</td>\n",
       "    </tr>\n",
       "    <tr>\n",
       "      <th>2016</th>\n",
       "      <td>14192</td>\n",
       "      <td>21467</td>\n",
       "      <td>13617</td>\n",
       "      <td>49276</td>\n",
       "    </tr>\n",
       "    <tr>\n",
       "      <th>2017</th>\n",
       "      <td>976</td>\n",
       "      <td>2446</td>\n",
       "      <td>1414</td>\n",
       "      <td>4836</td>\n",
       "    </tr>\n",
       "  </tbody>\n",
       "</table>\n",
       "</div>"
      ],
      "text/plain": [
       "           pro-gov  anti-gov  civilians  total\n",
       "year                                          \n",
       "2011/2012    22051     10271      23830  56152\n",
       "2013         30239     18812      22436  71487\n",
       "2014         25160     32726      17790  75676\n",
       "2015         17686     24010      13249  54945\n",
       "2016         14192     21467      13617  49276\n",
       "2017           976      2446       1414   4836"
      ]
     },
     "execution_count": 2,
     "metadata": {},
     "output_type": "execute_result"
    }
   ],
   "source": [
    "# Data from: https://en.wikipedia.org/wiki/Casualties_of_the_Syrian_Civil_War#Death_tolls_by_time_periods\n",
    "casualties_df = pd.DataFrame({\n",
    "    'year': ['2011/2012', '2013', '2014', '2015', '2016', '2017'],\n",
    "    'pro-gov': [22051, 30239, 25160, 17686, 14192, 976],\n",
    "    'anti-gov': [10271, 18812, 32726, 24010, 21467, 2446],\n",
    "    'civilians': [23830, 22436, 17790, 13249, 13617, 1414]\n",
    "}, columns=['year', 'pro-gov', 'anti-gov', 'civilians'])\n",
    "casualties_df['total'] = casualties_df['pro-gov'] + casualties_df['anti-gov'] + casualties_df['civilians']\n",
    "casualties_df = casualties_df.set_index('year')\n",
    "casualties_df"
   ]
  },
  {
   "cell_type": "code",
   "execution_count": 3,
   "metadata": {
    "collapsed": false,
    "deletable": true,
    "editable": true
   },
   "outputs": [
    {
     "data": {
      "text/plain": [
       "<matplotlib.axes._subplots.AxesSubplot at 0x10d826208>"
      ]
     },
     "execution_count": 3,
     "metadata": {},
     "output_type": "execute_result"
    },
    {
     "data": {
      "image/png": "[encoded data removed]",
      "text/plain": [
       "<matplotlib.figure.Figure at 0x10d80ca58>"
      ]
     },
     "metadata": {},
     "output_type": "display_data"
    }
   ],
   "source": [
    "casualties_df.plot()"
   ]
  },
  {
   "cell_type": "markdown",
   "metadata": {
    "deletable": true,
    "editable": true
   },
   "source": [
    "Refugees numbers extracted from http://popstats.unhcr.org/en/time_series\n",
    "\n",
    "Selecting: \n",
    "\n",
    "* Years 2011 through 2015\n",
    "* All Country / territory of asylum/residence\n",
    "* Only Syrian Arab Rep. as Origin\n",
    "* All Population type\n"
   ]
  },
  {
   "cell_type": "code",
   "execution_count": 4,
   "metadata": {
    "collapsed": false,
    "deletable": true,
    "editable": true
   },
   "outputs": [],
   "source": [
    "refugees_df = pd.read_csv('unhcr_popstats_export_time_series_2017_03_12_145925.csv', delimiter=',', skiprows=3)\n",
    "# As the comment on http://popstats.unhcr.org/en/time_series says :\n",
    "#\"In the 2014 data, figures between 1 and 4 have been replaced with an asterisk (*). \n",
    "# These represent situations where the figures are being kept confidential to protect the anonymity of individuals.\"\n",
    "# So replacing an asterisk with 1\n",
    "refugees_df['Value'] = refugees_df['Value'].replace('*', 1) \n",
    "refugees_df['Value'] = refugees_df['Value'].astype(int)\n",
    "\n",
    "# I only want to look as the numbers in general so losing the Country column\n",
    "# and I only selected Syria as an origin country so I don't need that columns either\n",
    "refugees_df = refugees_df[['Year', 'Population type', 'Value']]\n",
    "\n",
    "# Grouping\n",
    "refugees_df = refugees_df.groupby(['Year', 'Population type']).sum()"
   ]
  },
  {
   "cell_type": "code",
   "execution_count": 5,
   "metadata": {
    "collapsed": false,
    "deletable": true,
    "editable": true
   },
   "outputs": [],
   "source": [
    "refugees_df = refugees_df.reset_index(level=0) # Year index to column\n",
    "refugees_df = refugees_df.reset_index(level=0) # Population type index to column\n",
    "refugees_df['Year'] = refugees_df['Year'].astype(str)"
   ]
  },
  {
   "cell_type": "code",
   "execution_count": 6,
   "metadata": {
    "collapsed": false,
    "deletable": true,
    "editable": true
   },
   "outputs": [
    {
     "data": {
      "text/html": [
       "<div>\n",
       "<table border=\"1\" class=\"dataframe\">\n",
       "  <thead>\n",
       "    <tr style=\"text-align: right;\">\n",
       "      <th>Population type</th>\n",
       "      <th>Asylum-seekers</th>\n",
       "      <th>Internally displaced persons</th>\n",
       "      <th>Others of concern</th>\n",
       "      <th>Refugees (incl. refugee-like situations)</th>\n",
       "      <th>Returned IDPs</th>\n",
       "      <th>Returnees</th>\n",
       "      <th>Stateless</th>\n",
       "    </tr>\n",
       "    <tr>\n",
       "      <th>Year</th>\n",
       "      <th></th>\n",
       "      <th></th>\n",
       "      <th></th>\n",
       "      <th></th>\n",
       "      <th></th>\n",
       "      <th></th>\n",
       "      <th></th>\n",
       "    </tr>\n",
       "  </thead>\n",
       "  <tbody>\n",
       "    <tr>\n",
       "      <th>2011</th>\n",
       "      <td>14456.0</td>\n",
       "      <td>NaN</td>\n",
       "      <td>14110.0</td>\n",
       "      <td>19931.0</td>\n",
       "      <td>NaN</td>\n",
       "      <td>NaN</td>\n",
       "      <td>231000.0</td>\n",
       "    </tr>\n",
       "    <tr>\n",
       "      <th>2012</th>\n",
       "      <td>26023.0</td>\n",
       "      <td>2016500.0</td>\n",
       "      <td>6900.0</td>\n",
       "      <td>729022.0</td>\n",
       "      <td>NaN</td>\n",
       "      <td>68573.0</td>\n",
       "      <td>221000.0</td>\n",
       "    </tr>\n",
       "    <tr>\n",
       "      <th>2013</th>\n",
       "      <td>41037.0</td>\n",
       "      <td>6520800.0</td>\n",
       "      <td>9400.0</td>\n",
       "      <td>2468332.0</td>\n",
       "      <td>NaN</td>\n",
       "      <td>140761.0</td>\n",
       "      <td>160000.0</td>\n",
       "    </tr>\n",
       "    <tr>\n",
       "      <th>2014</th>\n",
       "      <td>79649.0</td>\n",
       "      <td>7632500.0</td>\n",
       "      <td>1993.0</td>\n",
       "      <td>3883569.0</td>\n",
       "      <td>NaN</td>\n",
       "      <td>NaN</td>\n",
       "      <td>160000.0</td>\n",
       "    </tr>\n",
       "    <tr>\n",
       "      <th>2015</th>\n",
       "      <td>245815.0</td>\n",
       "      <td>6563462.0</td>\n",
       "      <td>8247.0</td>\n",
       "      <td>4872564.0</td>\n",
       "      <td>0.0</td>\n",
       "      <td>189.0</td>\n",
       "      <td>0.0</td>\n",
       "    </tr>\n",
       "  </tbody>\n",
       "</table>\n",
       "</div>"
      ],
      "text/plain": [
       "Population type  Asylum-seekers  Internally displaced persons  \\\n",
       "Year                                                            \n",
       "2011                    14456.0                           NaN   \n",
       "2012                    26023.0                     2016500.0   \n",
       "2013                    41037.0                     6520800.0   \n",
       "2014                    79649.0                     7632500.0   \n",
       "2015                   245815.0                     6563462.0   \n",
       "\n",
       "Population type  Others of concern  Refugees (incl. refugee-like situations)  \\\n",
       "Year                                                                           \n",
       "2011                       14110.0                                   19931.0   \n",
       "2012                        6900.0                                  729022.0   \n",
       "2013                        9400.0                                 2468332.0   \n",
       "2014                        1993.0                                 3883569.0   \n",
       "2015                        8247.0                                 4872564.0   \n",
       "\n",
       "Population type  Returned IDPs  Returnees  Stateless  \n",
       "Year                                                  \n",
       "2011                       NaN        NaN   231000.0  \n",
       "2012                       NaN    68573.0   221000.0  \n",
       "2013                       NaN   140761.0   160000.0  \n",
       "2014                       NaN        NaN   160000.0  \n",
       "2015                       0.0      189.0        0.0  "
      ]
     },
     "execution_count": 6,
     "metadata": {},
     "output_type": "execute_result"
    }
   ],
   "source": [
    "refugees_df = refugees_df.pivot(index='Year', columns='Population type', values='Value')\n",
    "refugees_df"
   ]
  },
  {
   "cell_type": "code",
   "execution_count": 7,
   "metadata": {
    "collapsed": false,
    "deletable": true,
    "editable": true
   },
   "outputs": [
    {
     "data": {
      "text/html": [
       "<div>\n",
       "<table border=\"1\" class=\"dataframe\">\n",
       "  <thead>\n",
       "    <tr style=\"text-align: right;\">\n",
       "      <th>Population type</th>\n",
       "      <th>Asylum-seekers</th>\n",
       "      <th>Internally displaced persons</th>\n",
       "      <th>Others of concern</th>\n",
       "      <th>Refugees (incl. refugee-like situations)</th>\n",
       "      <th>Returnees</th>\n",
       "      <th>Stateless</th>\n",
       "    </tr>\n",
       "    <tr>\n",
       "      <th>Year</th>\n",
       "      <th></th>\n",
       "      <th></th>\n",
       "      <th></th>\n",
       "      <th></th>\n",
       "      <th></th>\n",
       "      <th></th>\n",
       "    </tr>\n",
       "  </thead>\n",
       "  <tbody>\n",
       "    <tr>\n",
       "      <th>2011</th>\n",
       "      <td>14456.0</td>\n",
       "      <td>NaN</td>\n",
       "      <td>14110.0</td>\n",
       "      <td>19931.0</td>\n",
       "      <td>NaN</td>\n",
       "      <td>231000.0</td>\n",
       "    </tr>\n",
       "    <tr>\n",
       "      <th>2012</th>\n",
       "      <td>26023.0</td>\n",
       "      <td>2016500.0</td>\n",
       "      <td>6900.0</td>\n",
       "      <td>729022.0</td>\n",
       "      <td>68573.0</td>\n",
       "      <td>221000.0</td>\n",
       "    </tr>\n",
       "    <tr>\n",
       "      <th>2013</th>\n",
       "      <td>41037.0</td>\n",
       "      <td>6520800.0</td>\n",
       "      <td>9400.0</td>\n",
       "      <td>2468332.0</td>\n",
       "      <td>140761.0</td>\n",
       "      <td>160000.0</td>\n",
       "    </tr>\n",
       "    <tr>\n",
       "      <th>2014</th>\n",
       "      <td>79649.0</td>\n",
       "      <td>7632500.0</td>\n",
       "      <td>1993.0</td>\n",
       "      <td>3883569.0</td>\n",
       "      <td>NaN</td>\n",
       "      <td>160000.0</td>\n",
       "    </tr>\n",
       "    <tr>\n",
       "      <th>2015</th>\n",
       "      <td>245815.0</td>\n",
       "      <td>6563462.0</td>\n",
       "      <td>8247.0</td>\n",
       "      <td>4872564.0</td>\n",
       "      <td>189.0</td>\n",
       "      <td>0.0</td>\n",
       "    </tr>\n",
       "  </tbody>\n",
       "</table>\n",
       "</div>"
      ],
      "text/plain": [
       "Population type  Asylum-seekers  Internally displaced persons  \\\n",
       "Year                                                            \n",
       "2011                    14456.0                           NaN   \n",
       "2012                    26023.0                     2016500.0   \n",
       "2013                    41037.0                     6520800.0   \n",
       "2014                    79649.0                     7632500.0   \n",
       "2015                   245815.0                     6563462.0   \n",
       "\n",
       "Population type  Others of concern  Refugees (incl. refugee-like situations)  \\\n",
       "Year                                                                           \n",
       "2011                       14110.0                                   19931.0   \n",
       "2012                        6900.0                                  729022.0   \n",
       "2013                        9400.0                                 2468332.0   \n",
       "2014                        1993.0                                 3883569.0   \n",
       "2015                        8247.0                                 4872564.0   \n",
       "\n",
       "Population type  Returnees  Stateless  \n",
       "Year                                   \n",
       "2011                   NaN   231000.0  \n",
       "2012               68573.0   221000.0  \n",
       "2013              140761.0   160000.0  \n",
       "2014                   NaN   160000.0  \n",
       "2015                 189.0        0.0  "
      ]
     },
     "execution_count": 7,
     "metadata": {},
     "output_type": "execute_result"
    }
   ],
   "source": [
    "# Droping Returned IDPs since it's empty\n",
    "refugees_df = refugees_df.drop('Returned IDPs', axis=1)\n",
    "refugees_df"
   ]
  },
  {
   "cell_type": "code",
   "execution_count": 8,
   "metadata": {
    "collapsed": false,
    "deletable": true,
    "editable": true
   },
   "outputs": [
    {
     "data": {
      "text/plain": [
       "<matplotlib.legend.Legend at 0x10d9ab9e8>"
      ]
     },
     "execution_count": 8,
     "metadata": {},
     "output_type": "execute_result"
    },
    {
     "data": {
      "image/png": "[encoded data removed]",
      "text/plain": [
       "<matplotlib.figure.Figure at 0x10d9aba90>"
      ]
     },
     "metadata": {},
     "output_type": "display_data"
    }
   ],
   "source": [
    "refugees_df.plot()\n",
    "plt.legend(loc='center left', bbox_to_anchor=(1.0, 0.5))"
   ]
  },
  {
   "cell_type": "code",
   "execution_count": 9,
   "metadata": {
    "collapsed": false,
    "deletable": true,
    "editable": true
   },
   "outputs": [
    {
     "data": {
      "text/plain": [
       "<matplotlib.legend.Legend at 0x109d18470>"
      ]
     },
     "execution_count": 9,
     "metadata": {},
     "output_type": "execute_result"
    },
    {
     "data": {
      "image/png": "[encoded data removed]",
      "text/plain": [
       "<matplotlib.figure.Figure at 0x10aa9e7b8>"
      ]
     },
     "metadata": {},
     "output_type": "display_data"
    }
   ],
   "source": [
    "# Focusing on asylum seekers, Internally displaced, and Refugees\n",
    "refugees_df[['Asylum-seekers', 'Internally displaced persons', 'Refugees (incl. refugee-like situations)']].plot()\n",
    "plt.legend(loc='center left', bbox_to_anchor=(1.0, 0.5))"
   ]
  },
  {
   "cell_type": "code",
   "execution_count": 10,
   "metadata": {
    "collapsed": false,
    "deletable": true,
    "editable": true
   },
   "outputs": [
    {
     "data": {
      "text/plain": [
       "pro-gov      110304\n",
       "anti-gov     109732\n",
       "civilians     92336\n",
       "total        312372\n",
       "dtype: int64"
      ]
     },
     "execution_count": 10,
     "metadata": {},
     "output_type": "execute_result"
    }
   ],
   "source": [
    "casualties_df.sum()"
   ]
  },
  {
   "cell_type": "code",
   "execution_count": null,
   "metadata": {
    "collapsed": true,
    "deletable": true,
    "editable": true
   },
   "outputs": [],
   "source": []
  }
 ],
 "metadata": {
  "kernelspec": {
   "display_name": "Python 3",
   "language": "python",
   "name": "python3"
  },
  "language_info": {
   "codemirror_mode": {
    "name": "ipython",
    "version": 3
   },
   "file_extension": ".py",
   "mimetype": "text/x-python",
   "name": "python",
   "nbconvert_exporter": "python",
   "pygments_lexer": "ipython3",
   "version": "3.6.0"
  }
 },
 "nbformat": 4,
 "nbformat_minor": 2
}
